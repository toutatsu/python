{
 "cells": [
  {
   "cell_type": "markdown",
   "metadata": {},
   "source": [
    "### run jupyter server in Docker container\n",
    "`jupyter notebook --allow-root --ip=* --no-browse`"
   ]
  },
  {
   "cell_type": "markdown",
   "metadata": {},
   "source": [
    "commandline execution\n",
    "```sh\n",
    "$ jupyter nbconvert --to notebook  \\\n",
    "     --ExecutePreprocessor.timeout=2678400 \\\n",
    "     --allow-errors --debug \\\n",
    "    --execute mynotebook.ipynb --output mynotebook2.ipynb\n",
    "\n",
    "$ jupyter nbconvert --to notebook --ExecutePreprocessor.timeout=2678400 --allow-errors --debug --execute notebook.ipynb --output notebook_out.ipynb\n",
    "```"
   ]
  },
  {
   "cell_type": "code",
   "execution_count": null,
   "metadata": {},
   "outputs": [],
   "source": [
    "%load_ext rich"
   ]
  }
 ],
 "metadata": {
  "language_info": {
   "name": "python"
  }
 },
 "nbformat": 4,
 "nbformat_minor": 2
}
